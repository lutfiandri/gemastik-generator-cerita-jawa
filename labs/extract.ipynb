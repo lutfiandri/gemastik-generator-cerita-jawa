{
 "cells": [
  {
   "cell_type": "code",
   "execution_count": 12,
   "metadata": {},
   "outputs": [],
   "source": [
    "from selenium.webdriver.chrome.options import Options\n",
    "from selenium.webdriver.common.by import By\n",
    "from selenium.webdriver.chrome.service import Service\n",
    "from selenium import webdriver\n",
    "import os.path\n",
    "import time\n",
    "from urllib.parse import quote\n",
    "import pandas as pd\n",
    "from tqdm._tqdm_notebook import tqdm_notebook\n",
    "import csv"
   ]
  },
  {
   "cell_type": "code",
   "execution_count": 2,
   "metadata": {},
   "outputs": [],
   "source": [
    "tqdm_notebook.pandas()"
   ]
  },
  {
   "cell_type": "code",
   "execution_count": 5,
   "metadata": {},
   "outputs": [],
   "source": [
    "# Setup chrome options\n",
    "chrome_options = Options()\n",
    "chrome_options.add_argument(\"--headless\") # Ensure GUI is off\n",
    "# chrome_options.add_argument(\"--no-sandbox\")\n",
    "chrome_options.add_argument('--disable-gpu')\n",
    "chrome_options.add_argument('--start-maximized')\n",
    "\n",
    "# Set path to chromedriver as per your configuration\n",
    "homedir = os.path.expanduser(\"~\")\n",
    "webdriver_service = Service(f\"{homedir}/chromedriver/chromedriver-114\")\n"
   ]
  },
  {
   "cell_type": "code",
   "execution_count": 4,
   "metadata": {},
   "outputs": [
    {
     "name": "stdout",
     "output_type": "stream",
     "text": [
      "page: 1\n",
      "page: 2\n"
     ]
    }
   ],
   "source": [
    "browser = webdriver.Chrome(service=webdriver_service, options=chrome_options)\n",
    "\n",
    "urls = []\n",
    "\n",
    "for i in range(1,101):\n",
    "    print(\"page:\",i)\n",
    "    browser.get(f\"https://cerpenmu.com/cerpen-kehidupan/page/{i}\")\n",
    "    elements = browser.find_elements(By.CSS_SELECTOR, \"h2 > a[href]\")\n",
    "\n",
    "    for element in elements:\n",
    "        url = element.get_attribute('href')\n",
    "        urls.append(url)\n"
   ]
  },
  {
   "cell_type": "code",
   "execution_count": null,
   "metadata": {},
   "outputs": [],
   "source": [
    "len(urls)\n",
    "df = pd.DataFrame({\n",
    "    'url': urls\n",
    "})\n",
    "\n",
    "df.head()\n",
    "df.to_csv('../data/urls.csv')"
   ]
  },
  {
   "attachments": {},
   "cell_type": "markdown",
   "metadata": {},
   "source": [
    "# Read Stories"
   ]
  },
  {
   "cell_type": "code",
   "execution_count": 6,
   "metadata": {},
   "outputs": [
    {
     "data": {
      "text/html": [
       "<div>\n",
       "<style scoped>\n",
       "    .dataframe tbody tr th:only-of-type {\n",
       "        vertical-align: middle;\n",
       "    }\n",
       "\n",
       "    .dataframe tbody tr th {\n",
       "        vertical-align: top;\n",
       "    }\n",
       "\n",
       "    .dataframe thead th {\n",
       "        text-align: right;\n",
       "    }\n",
       "</style>\n",
       "<table border=\"1\" class=\"dataframe\">\n",
       "  <thead>\n",
       "    <tr style=\"text-align: right;\">\n",
       "      <th></th>\n",
       "      <th>url</th>\n",
       "    </tr>\n",
       "  </thead>\n",
       "  <tbody>\n",
       "    <tr>\n",
       "      <th>0</th>\n",
       "      <td>http://cerpenmu.com/cerpen-kehidupan/prosa-ten...</td>\n",
       "    </tr>\n",
       "    <tr>\n",
       "      <th>1</th>\n",
       "      <td>http://cerpenmu.com/cerpen-kehidupan/kami-buka...</td>\n",
       "    </tr>\n",
       "    <tr>\n",
       "      <th>2</th>\n",
       "      <td>http://cerpenmu.com/cerpen-kehidupan/wali-tanp...</td>\n",
       "    </tr>\n",
       "    <tr>\n",
       "      <th>3</th>\n",
       "      <td>http://cerpenmu.com/cerpen-kehidupan/melukis-s...</td>\n",
       "    </tr>\n",
       "    <tr>\n",
       "      <th>4</th>\n",
       "      <td>http://cerpenmu.com/cerpen-kehidupan/kasih-say...</td>\n",
       "    </tr>\n",
       "  </tbody>\n",
       "</table>\n",
       "</div>"
      ],
      "text/plain": [
       "                                                 url\n",
       "0  http://cerpenmu.com/cerpen-kehidupan/prosa-ten...\n",
       "1  http://cerpenmu.com/cerpen-kehidupan/kami-buka...\n",
       "2  http://cerpenmu.com/cerpen-kehidupan/wali-tanp...\n",
       "3  http://cerpenmu.com/cerpen-kehidupan/melukis-s...\n",
       "4  http://cerpenmu.com/cerpen-kehidupan/kasih-say..."
      ]
     },
     "execution_count": 6,
     "metadata": {},
     "output_type": "execute_result"
    }
   ],
   "source": [
    "df = pd.read_csv('../data/urls.csv', index_col=0)\n",
    "df.head()"
   ]
  },
  {
   "cell_type": "code",
   "execution_count": null,
   "metadata": {},
   "outputs": [
    {
     "name": "stdout",
     "output_type": "stream",
     "text": [
      "http://cerpenmu.com/cerpen-kehidupan/prosa-tentang-senyuman.html\n",
      "http://cerpenmu.com/cerpen-kehidupan/kami-bukan-bajak-laut.html\n",
      "http://cerpenmu.com/cerpen-kehidupan/wali-tanpa-nama.html\n",
      "http://cerpenmu.com/cerpen-kehidupan/melukis-senja.html\n",
      "http://cerpenmu.com/cerpen-kehidupan/kasih-sayang-3.html\n"
     ]
    }
   ],
   "source": []
  },
  {
   "cell_type": "code",
   "execution_count": 17,
   "metadata": {},
   "outputs": [],
   "source": [
    "def get_story_content(browser, url:str) -> str:\n",
    "    # browser = webdriver.Chrome(service=webdriver_service, options=chrome_options)\n",
    "    \n",
    "    browser.get(url)\n",
    "    elements = browser.find_elements(By.CSS_SELECTOR, \"div#content > article.post > p\")\n",
    "\n",
    "    paragraphs = []\n",
    "\n",
    "    for element in elements:\n",
    "        paragraphs.append(element.text)\n",
    "\n",
    "    paragraphs = paragraphs[1:-2]\n",
    "\n",
    "    text = ' '.join(paragraphs)\n",
    "\n",
    "    return text"
   ]
  },
  {
   "cell_type": "code",
   "execution_count": 19,
   "metadata": {},
   "outputs": [
    {
     "name": "stdout",
     "output_type": "stream",
     "text": [
      "step 0\n",
      "step 10\n",
      "step 20\n",
      "step 30\n",
      "step 40\n",
      "step 50\n",
      "step 60\n",
      "step 70\n",
      "step 80\n",
      "step 90\n",
      "step 100\n",
      "step 110\n",
      "step 120\n",
      "step 130\n",
      "step 140\n",
      "step 150\n"
     ]
    },
    {
     "ename": "KeyboardInterrupt",
     "evalue": "",
     "output_type": "error",
     "traceback": [
      "\u001b[0;31m---------------------------------------------------------------------------\u001b[0m",
      "\u001b[0;31mKeyboardInterrupt\u001b[0m                         Traceback (most recent call last)",
      "Cell \u001b[0;32mIn[19], line 12\u001b[0m\n\u001b[1;32m     10\u001b[0m         \u001b[39mif\u001b[39;00m i \u001b[39m%\u001b[39m \u001b[39m10\u001b[39m \u001b[39m==\u001b[39m \u001b[39m0\u001b[39m:\n\u001b[1;32m     11\u001b[0m             \u001b[39mprint\u001b[39m(\u001b[39m\"\u001b[39m\u001b[39mstep\u001b[39m\u001b[39m\"\u001b[39m, i)\n\u001b[0;32m---> 12\u001b[0m         text \u001b[39m=\u001b[39m get_story_content(browser, row[\u001b[39m'\u001b[39;49m\u001b[39murl\u001b[39;49m\u001b[39m'\u001b[39;49m])\n\u001b[1;32m     13\u001b[0m         writer\u001b[39m.\u001b[39mwriterow([i,row[\u001b[39m'\u001b[39m\u001b[39murl\u001b[39m\u001b[39m'\u001b[39m],text])\n\u001b[1;32m     15\u001b[0m file\u001b[39m.\u001b[39mclose()\n",
      "Cell \u001b[0;32mIn[17], line 10\u001b[0m, in \u001b[0;36mget_story_content\u001b[0;34m(browser, url)\u001b[0m\n\u001b[1;32m      7\u001b[0m paragraphs \u001b[39m=\u001b[39m []\n\u001b[1;32m      9\u001b[0m \u001b[39mfor\u001b[39;00m element \u001b[39min\u001b[39;00m elements:\n\u001b[0;32m---> 10\u001b[0m     paragraphs\u001b[39m.\u001b[39mappend(element\u001b[39m.\u001b[39;49mtext)\n\u001b[1;32m     12\u001b[0m paragraphs \u001b[39m=\u001b[39m paragraphs[\u001b[39m1\u001b[39m:\u001b[39m-\u001b[39m\u001b[39m2\u001b[39m]\n\u001b[1;32m     14\u001b[0m text \u001b[39m=\u001b[39m \u001b[39m'\u001b[39m\u001b[39m \u001b[39m\u001b[39m'\u001b[39m\u001b[39m.\u001b[39mjoin(paragraphs)\n",
      "File \u001b[0;32m~/Documents/gemastik/.venv/lib64/python3.11/site-packages/selenium/webdriver/remote/webelement.py:90\u001b[0m, in \u001b[0;36mWebElement.text\u001b[0;34m(self)\u001b[0m\n\u001b[1;32m     87\u001b[0m \u001b[39m@property\u001b[39m\n\u001b[1;32m     88\u001b[0m \u001b[39mdef\u001b[39;00m \u001b[39mtext\u001b[39m(\u001b[39mself\u001b[39m) \u001b[39m-\u001b[39m\u001b[39m>\u001b[39m \u001b[39mstr\u001b[39m:\n\u001b[1;32m     89\u001b[0m \u001b[39m    \u001b[39m\u001b[39m\"\"\"The text of the element.\"\"\"\u001b[39;00m\n\u001b[0;32m---> 90\u001b[0m     \u001b[39mreturn\u001b[39;00m \u001b[39mself\u001b[39;49m\u001b[39m.\u001b[39;49m_execute(Command\u001b[39m.\u001b[39;49mGET_ELEMENT_TEXT)[\u001b[39m\"\u001b[39m\u001b[39mvalue\u001b[39m\u001b[39m\"\u001b[39m]\n",
      "File \u001b[0;32m~/Documents/gemastik/.venv/lib64/python3.11/site-packages/selenium/webdriver/remote/webelement.py:395\u001b[0m, in \u001b[0;36mWebElement._execute\u001b[0;34m(self, command, params)\u001b[0m\n\u001b[1;32m    393\u001b[0m     params \u001b[39m=\u001b[39m {}\n\u001b[1;32m    394\u001b[0m params[\u001b[39m\"\u001b[39m\u001b[39mid\u001b[39m\u001b[39m\"\u001b[39m] \u001b[39m=\u001b[39m \u001b[39mself\u001b[39m\u001b[39m.\u001b[39m_id\n\u001b[0;32m--> 395\u001b[0m \u001b[39mreturn\u001b[39;00m \u001b[39mself\u001b[39;49m\u001b[39m.\u001b[39;49m_parent\u001b[39m.\u001b[39;49mexecute(command, params)\n",
      "File \u001b[0;32m~/Documents/gemastik/.venv/lib64/python3.11/site-packages/selenium/webdriver/remote/webdriver.py:344\u001b[0m, in \u001b[0;36mWebDriver.execute\u001b[0;34m(self, driver_command, params)\u001b[0m\n\u001b[1;32m    341\u001b[0m     \u001b[39melif\u001b[39;00m \u001b[39m\"\u001b[39m\u001b[39msessionId\u001b[39m\u001b[39m\"\u001b[39m \u001b[39mnot\u001b[39;00m \u001b[39min\u001b[39;00m params:\n\u001b[1;32m    342\u001b[0m         params[\u001b[39m\"\u001b[39m\u001b[39msessionId\u001b[39m\u001b[39m\"\u001b[39m] \u001b[39m=\u001b[39m \u001b[39mself\u001b[39m\u001b[39m.\u001b[39msession_id\n\u001b[0;32m--> 344\u001b[0m response \u001b[39m=\u001b[39m \u001b[39mself\u001b[39;49m\u001b[39m.\u001b[39;49mcommand_executor\u001b[39m.\u001b[39;49mexecute(driver_command, params)\n\u001b[1;32m    345\u001b[0m \u001b[39mif\u001b[39;00m response:\n\u001b[1;32m    346\u001b[0m     \u001b[39mself\u001b[39m\u001b[39m.\u001b[39merror_handler\u001b[39m.\u001b[39mcheck_response(response)\n",
      "File \u001b[0;32m~/Documents/gemastik/.venv/lib64/python3.11/site-packages/selenium/webdriver/remote/remote_connection.py:290\u001b[0m, in \u001b[0;36mRemoteConnection.execute\u001b[0;34m(self, command, params)\u001b[0m\n\u001b[1;32m    288\u001b[0m data \u001b[39m=\u001b[39m utils\u001b[39m.\u001b[39mdump_json(params)\n\u001b[1;32m    289\u001b[0m url \u001b[39m=\u001b[39m \u001b[39mf\u001b[39m\u001b[39m\"\u001b[39m\u001b[39m{\u001b[39;00m\u001b[39mself\u001b[39m\u001b[39m.\u001b[39m_url\u001b[39m}\u001b[39;00m\u001b[39m{\u001b[39;00mpath\u001b[39m}\u001b[39;00m\u001b[39m\"\u001b[39m\n\u001b[0;32m--> 290\u001b[0m \u001b[39mreturn\u001b[39;00m \u001b[39mself\u001b[39;49m\u001b[39m.\u001b[39;49m_request(command_info[\u001b[39m0\u001b[39;49m], url, body\u001b[39m=\u001b[39;49mdata)\n",
      "File \u001b[0;32m~/Documents/gemastik/.venv/lib64/python3.11/site-packages/selenium/webdriver/remote/remote_connection.py:311\u001b[0m, in \u001b[0;36mRemoteConnection._request\u001b[0;34m(self, method, url, body)\u001b[0m\n\u001b[1;32m    308\u001b[0m     body \u001b[39m=\u001b[39m \u001b[39mNone\u001b[39;00m\n\u001b[1;32m    310\u001b[0m \u001b[39mif\u001b[39;00m \u001b[39mself\u001b[39m\u001b[39m.\u001b[39mkeep_alive:\n\u001b[0;32m--> 311\u001b[0m     response \u001b[39m=\u001b[39m \u001b[39mself\u001b[39;49m\u001b[39m.\u001b[39;49m_conn\u001b[39m.\u001b[39;49mrequest(method, url, body\u001b[39m=\u001b[39;49mbody, headers\u001b[39m=\u001b[39;49mheaders)\n\u001b[1;32m    312\u001b[0m     statuscode \u001b[39m=\u001b[39m response\u001b[39m.\u001b[39mstatus\n\u001b[1;32m    313\u001b[0m \u001b[39melse\u001b[39;00m:\n",
      "File \u001b[0;32m~/Documents/gemastik/.venv/lib64/python3.11/site-packages/urllib3/_request_methods.py:110\u001b[0m, in \u001b[0;36mRequestMethods.request\u001b[0;34m(self, method, url, body, fields, headers, json, **urlopen_kw)\u001b[0m\n\u001b[1;32m    107\u001b[0m     urlopen_kw[\u001b[39m\"\u001b[39m\u001b[39mbody\u001b[39m\u001b[39m\"\u001b[39m] \u001b[39m=\u001b[39m body\n\u001b[1;32m    109\u001b[0m \u001b[39mif\u001b[39;00m method \u001b[39min\u001b[39;00m \u001b[39mself\u001b[39m\u001b[39m.\u001b[39m_encode_url_methods:\n\u001b[0;32m--> 110\u001b[0m     \u001b[39mreturn\u001b[39;00m \u001b[39mself\u001b[39;49m\u001b[39m.\u001b[39;49mrequest_encode_url(\n\u001b[1;32m    111\u001b[0m         method,\n\u001b[1;32m    112\u001b[0m         url,\n\u001b[1;32m    113\u001b[0m         fields\u001b[39m=\u001b[39;49mfields,  \u001b[39m# type: ignore[arg-type]\u001b[39;49;00m\n\u001b[1;32m    114\u001b[0m         headers\u001b[39m=\u001b[39;49mheaders,\n\u001b[1;32m    115\u001b[0m         \u001b[39m*\u001b[39;49m\u001b[39m*\u001b[39;49murlopen_kw,\n\u001b[1;32m    116\u001b[0m     )\n\u001b[1;32m    117\u001b[0m \u001b[39melse\u001b[39;00m:\n\u001b[1;32m    118\u001b[0m     \u001b[39mreturn\u001b[39;00m \u001b[39mself\u001b[39m\u001b[39m.\u001b[39mrequest_encode_body(\n\u001b[1;32m    119\u001b[0m         method, url, fields\u001b[39m=\u001b[39mfields, headers\u001b[39m=\u001b[39mheaders, \u001b[39m*\u001b[39m\u001b[39m*\u001b[39murlopen_kw\n\u001b[1;32m    120\u001b[0m     )\n",
      "File \u001b[0;32m~/Documents/gemastik/.venv/lib64/python3.11/site-packages/urllib3/_request_methods.py:143\u001b[0m, in \u001b[0;36mRequestMethods.request_encode_url\u001b[0;34m(self, method, url, fields, headers, **urlopen_kw)\u001b[0m\n\u001b[1;32m    140\u001b[0m \u001b[39mif\u001b[39;00m fields:\n\u001b[1;32m    141\u001b[0m     url \u001b[39m+\u001b[39m\u001b[39m=\u001b[39m \u001b[39m\"\u001b[39m\u001b[39m?\u001b[39m\u001b[39m\"\u001b[39m \u001b[39m+\u001b[39m urlencode(fields)\n\u001b[0;32m--> 143\u001b[0m \u001b[39mreturn\u001b[39;00m \u001b[39mself\u001b[39;49m\u001b[39m.\u001b[39;49murlopen(method, url, \u001b[39m*\u001b[39;49m\u001b[39m*\u001b[39;49mextra_kw)\n",
      "File \u001b[0;32m~/Documents/gemastik/.venv/lib64/python3.11/site-packages/urllib3/poolmanager.py:443\u001b[0m, in \u001b[0;36mPoolManager.urlopen\u001b[0;34m(self, method, url, redirect, **kw)\u001b[0m\n\u001b[1;32m    441\u001b[0m     response \u001b[39m=\u001b[39m conn\u001b[39m.\u001b[39murlopen(method, url, \u001b[39m*\u001b[39m\u001b[39m*\u001b[39mkw)\n\u001b[1;32m    442\u001b[0m \u001b[39melse\u001b[39;00m:\n\u001b[0;32m--> 443\u001b[0m     response \u001b[39m=\u001b[39m conn\u001b[39m.\u001b[39;49murlopen(method, u\u001b[39m.\u001b[39;49mrequest_uri, \u001b[39m*\u001b[39;49m\u001b[39m*\u001b[39;49mkw)\n\u001b[1;32m    445\u001b[0m redirect_location \u001b[39m=\u001b[39m redirect \u001b[39mand\u001b[39;00m response\u001b[39m.\u001b[39mget_redirect_location()\n\u001b[1;32m    446\u001b[0m \u001b[39mif\u001b[39;00m \u001b[39mnot\u001b[39;00m redirect_location:\n",
      "File \u001b[0;32m~/Documents/gemastik/.venv/lib64/python3.11/site-packages/urllib3/connectionpool.py:790\u001b[0m, in \u001b[0;36mHTTPConnectionPool.urlopen\u001b[0;34m(self, method, url, body, headers, retries, redirect, assert_same_host, timeout, pool_timeout, release_conn, chunked, body_pos, preload_content, decode_content, **response_kw)\u001b[0m\n\u001b[1;32m    787\u001b[0m response_conn \u001b[39m=\u001b[39m conn \u001b[39mif\u001b[39;00m \u001b[39mnot\u001b[39;00m release_conn \u001b[39melse\u001b[39;00m \u001b[39mNone\u001b[39;00m\n\u001b[1;32m    789\u001b[0m \u001b[39m# Make the request on the HTTPConnection object\u001b[39;00m\n\u001b[0;32m--> 790\u001b[0m response \u001b[39m=\u001b[39m \u001b[39mself\u001b[39;49m\u001b[39m.\u001b[39;49m_make_request(\n\u001b[1;32m    791\u001b[0m     conn,\n\u001b[1;32m    792\u001b[0m     method,\n\u001b[1;32m    793\u001b[0m     url,\n\u001b[1;32m    794\u001b[0m     timeout\u001b[39m=\u001b[39;49mtimeout_obj,\n\u001b[1;32m    795\u001b[0m     body\u001b[39m=\u001b[39;49mbody,\n\u001b[1;32m    796\u001b[0m     headers\u001b[39m=\u001b[39;49mheaders,\n\u001b[1;32m    797\u001b[0m     chunked\u001b[39m=\u001b[39;49mchunked,\n\u001b[1;32m    798\u001b[0m     retries\u001b[39m=\u001b[39;49mretries,\n\u001b[1;32m    799\u001b[0m     response_conn\u001b[39m=\u001b[39;49mresponse_conn,\n\u001b[1;32m    800\u001b[0m     preload_content\u001b[39m=\u001b[39;49mpreload_content,\n\u001b[1;32m    801\u001b[0m     decode_content\u001b[39m=\u001b[39;49mdecode_content,\n\u001b[1;32m    802\u001b[0m     \u001b[39m*\u001b[39;49m\u001b[39m*\u001b[39;49mresponse_kw,\n\u001b[1;32m    803\u001b[0m )\n\u001b[1;32m    805\u001b[0m \u001b[39m# Everything went great!\u001b[39;00m\n\u001b[1;32m    806\u001b[0m clean_exit \u001b[39m=\u001b[39m \u001b[39mTrue\u001b[39;00m\n",
      "File \u001b[0;32m~/Documents/gemastik/.venv/lib64/python3.11/site-packages/urllib3/connectionpool.py:536\u001b[0m, in \u001b[0;36mHTTPConnectionPool._make_request\u001b[0;34m(self, conn, method, url, body, headers, retries, timeout, chunked, response_conn, preload_content, decode_content, enforce_content_length)\u001b[0m\n\u001b[1;32m    534\u001b[0m \u001b[39m# Receive the response from the server\u001b[39;00m\n\u001b[1;32m    535\u001b[0m \u001b[39mtry\u001b[39;00m:\n\u001b[0;32m--> 536\u001b[0m     response \u001b[39m=\u001b[39m conn\u001b[39m.\u001b[39;49mgetresponse()\n\u001b[1;32m    537\u001b[0m \u001b[39mexcept\u001b[39;00m (BaseSSLError, \u001b[39mOSError\u001b[39;00m) \u001b[39mas\u001b[39;00m e:\n\u001b[1;32m    538\u001b[0m     \u001b[39mself\u001b[39m\u001b[39m.\u001b[39m_raise_timeout(err\u001b[39m=\u001b[39me, url\u001b[39m=\u001b[39murl, timeout_value\u001b[39m=\u001b[39mread_timeout)\n",
      "File \u001b[0;32m~/Documents/gemastik/.venv/lib64/python3.11/site-packages/urllib3/connection.py:454\u001b[0m, in \u001b[0;36mHTTPConnection.getresponse\u001b[0;34m(self)\u001b[0m\n\u001b[1;32m    451\u001b[0m \u001b[39mfrom\u001b[39;00m \u001b[39m.\u001b[39;00m\u001b[39mresponse\u001b[39;00m \u001b[39mimport\u001b[39;00m HTTPResponse\n\u001b[1;32m    453\u001b[0m \u001b[39m# Get the response from http.client.HTTPConnection\u001b[39;00m\n\u001b[0;32m--> 454\u001b[0m httplib_response \u001b[39m=\u001b[39m \u001b[39msuper\u001b[39;49m()\u001b[39m.\u001b[39;49mgetresponse()\n\u001b[1;32m    456\u001b[0m \u001b[39mtry\u001b[39;00m:\n\u001b[1;32m    457\u001b[0m     assert_header_parsing(httplib_response\u001b[39m.\u001b[39mmsg)\n",
      "File \u001b[0;32m/usr/lib64/python3.11/http/client.py:1375\u001b[0m, in \u001b[0;36mHTTPConnection.getresponse\u001b[0;34m(self)\u001b[0m\n\u001b[1;32m   1373\u001b[0m \u001b[39mtry\u001b[39;00m:\n\u001b[1;32m   1374\u001b[0m     \u001b[39mtry\u001b[39;00m:\n\u001b[0;32m-> 1375\u001b[0m         response\u001b[39m.\u001b[39;49mbegin()\n\u001b[1;32m   1376\u001b[0m     \u001b[39mexcept\u001b[39;00m \u001b[39mConnectionError\u001b[39;00m:\n\u001b[1;32m   1377\u001b[0m         \u001b[39mself\u001b[39m\u001b[39m.\u001b[39mclose()\n",
      "File \u001b[0;32m/usr/lib64/python3.11/http/client.py:318\u001b[0m, in \u001b[0;36mHTTPResponse.begin\u001b[0;34m(self)\u001b[0m\n\u001b[1;32m    316\u001b[0m \u001b[39m# read until we get a non-100 response\u001b[39;00m\n\u001b[1;32m    317\u001b[0m \u001b[39mwhile\u001b[39;00m \u001b[39mTrue\u001b[39;00m:\n\u001b[0;32m--> 318\u001b[0m     version, status, reason \u001b[39m=\u001b[39m \u001b[39mself\u001b[39;49m\u001b[39m.\u001b[39;49m_read_status()\n\u001b[1;32m    319\u001b[0m     \u001b[39mif\u001b[39;00m status \u001b[39m!=\u001b[39m CONTINUE:\n\u001b[1;32m    320\u001b[0m         \u001b[39mbreak\u001b[39;00m\n",
      "File \u001b[0;32m/usr/lib64/python3.11/http/client.py:279\u001b[0m, in \u001b[0;36mHTTPResponse._read_status\u001b[0;34m(self)\u001b[0m\n\u001b[1;32m    278\u001b[0m \u001b[39mdef\u001b[39;00m \u001b[39m_read_status\u001b[39m(\u001b[39mself\u001b[39m):\n\u001b[0;32m--> 279\u001b[0m     line \u001b[39m=\u001b[39m \u001b[39mstr\u001b[39m(\u001b[39mself\u001b[39m\u001b[39m.\u001b[39mfp\u001b[39m.\u001b[39mreadline(_MAXLINE \u001b[39m+\u001b[39m \u001b[39m1\u001b[39m), \u001b[39m\"\u001b[39m\u001b[39miso-8859-1\u001b[39m\u001b[39m\"\u001b[39m)\n\u001b[1;32m    280\u001b[0m     \u001b[39mif\u001b[39;00m \u001b[39mlen\u001b[39m(line) \u001b[39m>\u001b[39m _MAXLINE:\n\u001b[1;32m    281\u001b[0m         \u001b[39mraise\u001b[39;00m LineTooLong(\u001b[39m\"\u001b[39m\u001b[39mstatus line\u001b[39m\u001b[39m\"\u001b[39m)\n",
      "File \u001b[0;32m/usr/lib64/python3.11/socket.py:706\u001b[0m, in \u001b[0;36mSocketIO.readinto\u001b[0;34m(self, b)\u001b[0m\n\u001b[1;32m    704\u001b[0m \u001b[39mwhile\u001b[39;00m \u001b[39mTrue\u001b[39;00m:\n\u001b[1;32m    705\u001b[0m     \u001b[39mtry\u001b[39;00m:\n\u001b[0;32m--> 706\u001b[0m         \u001b[39mreturn\u001b[39;00m \u001b[39mself\u001b[39;49m\u001b[39m.\u001b[39;49m_sock\u001b[39m.\u001b[39;49mrecv_into(b)\n\u001b[1;32m    707\u001b[0m     \u001b[39mexcept\u001b[39;00m timeout:\n\u001b[1;32m    708\u001b[0m         \u001b[39mself\u001b[39m\u001b[39m.\u001b[39m_timeout_occurred \u001b[39m=\u001b[39m \u001b[39mTrue\u001b[39;00m\n",
      "\u001b[0;31mKeyboardInterrupt\u001b[0m: "
     ]
    }
   ],
   "source": [
    "browser = webdriver.Chrome(service=webdriver_service, options=chrome_options)\n",
    "\n",
    "# df_small = df.head().copy()\n",
    "\n",
    "with open(\"../data/stories.csv\", \"w\") as file:\n",
    "    file.write(\",url,text\\n\")\n",
    "    writer = csv.writer(file)\n",
    "\n",
    "    for i, row in df.iterrows():\n",
    "        if i % 10 == 0:\n",
    "            print(\"step\", i)\n",
    "        text = get_story_content(browser, row['url'])\n",
    "        writer.writerow([i,row['url'],text])\n",
    "\n",
    "file.close()\n"
   ]
  },
  {
   "cell_type": "code",
   "execution_count": null,
   "metadata": {},
   "outputs": [],
   "source": [
    "df_small['text'] = df_small['url'].apply(get_story_content)\n",
    "df_small.to_csv('../data/stories_small.csv')"
   ]
  },
  {
   "cell_type": "code",
   "execution_count": null,
   "metadata": {},
   "outputs": [
    {
     "name": "stderr",
     "output_type": "stream",
     "text": [
      "Exception ignored in: <function tqdm.__del__ at 0x7f164227d620>\n",
      "Traceback (most recent call last):\n",
      "  File \"/home/lutfiandri/Documents/gemastik/.venv/lib64/python3.11/site-packages/tqdm/std.py\", line 1145, in __del__\n",
      "    self.close()\n",
      "  File \"/home/lutfiandri/Documents/gemastik/.venv/lib64/python3.11/site-packages/tqdm/notebook.py\", line 283, in close\n",
      "    self.disp(bar_style='danger', check_delay=False)\n",
      "    ^^^^^^^^^\n",
      "AttributeError: 'tqdm_notebook' object has no attribute 'disp'\n"
     ]
    },
    {
     "ename": "KeyboardInterrupt",
     "evalue": "",
     "output_type": "error",
     "traceback": [
      "\u001b[0;31m---------------------------------------------------------------------------\u001b[0m",
      "\u001b[0;31mKeyboardInterrupt\u001b[0m                         Traceback (most recent call last)",
      "Cell \u001b[0;32mIn[57], line 1\u001b[0m\n\u001b[0;32m----> 1\u001b[0m df[\u001b[39m'\u001b[39m\u001b[39mtext\u001b[39m\u001b[39m'\u001b[39m] \u001b[39m=\u001b[39m df[\u001b[39m'\u001b[39;49m\u001b[39murl\u001b[39;49m\u001b[39m'\u001b[39;49m]\u001b[39m.\u001b[39;49mapply(get_story_content)\n\u001b[1;32m      2\u001b[0m df\u001b[39m.\u001b[39mto_csv(\u001b[39m'\u001b[39m\u001b[39m../data/stories.csv\u001b[39m\u001b[39m'\u001b[39m)\n",
      "File \u001b[0;32m~/Documents/gemastik/.venv/lib64/python3.11/site-packages/pandas/core/series.py:4630\u001b[0m, in \u001b[0;36mSeries.apply\u001b[0;34m(self, func, convert_dtype, args, **kwargs)\u001b[0m\n\u001b[1;32m   4520\u001b[0m \u001b[39mdef\u001b[39;00m \u001b[39mapply\u001b[39m(\n\u001b[1;32m   4521\u001b[0m     \u001b[39mself\u001b[39m,\n\u001b[1;32m   4522\u001b[0m     func: AggFuncType,\n\u001b[0;32m   (...)\u001b[0m\n\u001b[1;32m   4525\u001b[0m     \u001b[39m*\u001b[39m\u001b[39m*\u001b[39mkwargs,\n\u001b[1;32m   4526\u001b[0m ) \u001b[39m-\u001b[39m\u001b[39m>\u001b[39m DataFrame \u001b[39m|\u001b[39m Series:\n\u001b[1;32m   4527\u001b[0m \u001b[39m    \u001b[39m\u001b[39m\"\"\"\u001b[39;00m\n\u001b[1;32m   4528\u001b[0m \u001b[39m    Invoke function on values of Series.\u001b[39;00m\n\u001b[1;32m   4529\u001b[0m \n\u001b[0;32m   (...)\u001b[0m\n\u001b[1;32m   4628\u001b[0m \u001b[39m    dtype: float64\u001b[39;00m\n\u001b[1;32m   4629\u001b[0m \u001b[39m    \"\"\"\u001b[39;00m\n\u001b[0;32m-> 4630\u001b[0m     \u001b[39mreturn\u001b[39;00m SeriesApply(\u001b[39mself\u001b[39;49m, func, convert_dtype, args, kwargs)\u001b[39m.\u001b[39;49mapply()\n",
      "File \u001b[0;32m~/Documents/gemastik/.venv/lib64/python3.11/site-packages/pandas/core/apply.py:1025\u001b[0m, in \u001b[0;36mSeriesApply.apply\u001b[0;34m(self)\u001b[0m\n\u001b[1;32m   1022\u001b[0m     \u001b[39mreturn\u001b[39;00m \u001b[39mself\u001b[39m\u001b[39m.\u001b[39mapply_str()\n\u001b[1;32m   1024\u001b[0m \u001b[39m# self.f is Callable\u001b[39;00m\n\u001b[0;32m-> 1025\u001b[0m \u001b[39mreturn\u001b[39;00m \u001b[39mself\u001b[39;49m\u001b[39m.\u001b[39;49mapply_standard()\n",
      "File \u001b[0;32m~/Documents/gemastik/.venv/lib64/python3.11/site-packages/pandas/core/apply.py:1076\u001b[0m, in \u001b[0;36mSeriesApply.apply_standard\u001b[0;34m(self)\u001b[0m\n\u001b[1;32m   1074\u001b[0m     \u001b[39melse\u001b[39;00m:\n\u001b[1;32m   1075\u001b[0m         values \u001b[39m=\u001b[39m obj\u001b[39m.\u001b[39mastype(\u001b[39mobject\u001b[39m)\u001b[39m.\u001b[39m_values\n\u001b[0;32m-> 1076\u001b[0m         mapped \u001b[39m=\u001b[39m lib\u001b[39m.\u001b[39;49mmap_infer(\n\u001b[1;32m   1077\u001b[0m             values,\n\u001b[1;32m   1078\u001b[0m             f,\n\u001b[1;32m   1079\u001b[0m             convert\u001b[39m=\u001b[39;49m\u001b[39mself\u001b[39;49m\u001b[39m.\u001b[39;49mconvert_dtype,\n\u001b[1;32m   1080\u001b[0m         )\n\u001b[1;32m   1082\u001b[0m \u001b[39mif\u001b[39;00m \u001b[39mlen\u001b[39m(mapped) \u001b[39mand\u001b[39;00m \u001b[39misinstance\u001b[39m(mapped[\u001b[39m0\u001b[39m], ABCSeries):\n\u001b[1;32m   1083\u001b[0m     \u001b[39m# GH#43986 Need to do list(mapped) in order to get treated as nested\u001b[39;00m\n\u001b[1;32m   1084\u001b[0m     \u001b[39m#  See also GH#25959 regarding EA support\u001b[39;00m\n\u001b[1;32m   1085\u001b[0m     \u001b[39mreturn\u001b[39;00m obj\u001b[39m.\u001b[39m_constructor_expanddim(\u001b[39mlist\u001b[39m(mapped), index\u001b[39m=\u001b[39mobj\u001b[39m.\u001b[39mindex)\n",
      "File \u001b[0;32m~/Documents/gemastik/.venv/lib64/python3.11/site-packages/pandas/_libs/lib.pyx:2834\u001b[0m, in \u001b[0;36mpandas._libs.lib.map_infer\u001b[0;34m()\u001b[0m\n",
      "Cell \u001b[0;32mIn[48], line 4\u001b[0m, in \u001b[0;36mget_story_content\u001b[0;34m(url)\u001b[0m\n\u001b[1;32m      1\u001b[0m \u001b[39mdef\u001b[39;00m \u001b[39mget_story_content\u001b[39m(url:\u001b[39mstr\u001b[39m) \u001b[39m-\u001b[39m\u001b[39m>\u001b[39m \u001b[39mstr\u001b[39m:\n\u001b[1;32m      2\u001b[0m     browser \u001b[39m=\u001b[39m webdriver\u001b[39m.\u001b[39mChrome(service\u001b[39m=\u001b[39mwebdriver_service, options\u001b[39m=\u001b[39mchrome_options)\n\u001b[0;32m----> 4\u001b[0m     browser\u001b[39m.\u001b[39;49mget(url)\n\u001b[1;32m      5\u001b[0m     elements \u001b[39m=\u001b[39m browser\u001b[39m.\u001b[39mfind_elements(By\u001b[39m.\u001b[39mCSS_SELECTOR, \u001b[39m\"\u001b[39m\u001b[39mdiv#content > article.post > p\u001b[39m\u001b[39m\"\u001b[39m)\n\u001b[1;32m      7\u001b[0m     paragraphs \u001b[39m=\u001b[39m []\n",
      "File \u001b[0;32m~/Documents/gemastik/.venv/lib64/python3.11/site-packages/selenium/webdriver/remote/webdriver.py:355\u001b[0m, in \u001b[0;36mWebDriver.get\u001b[0;34m(self, url)\u001b[0m\n\u001b[1;32m    353\u001b[0m \u001b[39mdef\u001b[39;00m \u001b[39mget\u001b[39m(\u001b[39mself\u001b[39m, url: \u001b[39mstr\u001b[39m) \u001b[39m-\u001b[39m\u001b[39m>\u001b[39m \u001b[39mNone\u001b[39;00m:\n\u001b[1;32m    354\u001b[0m \u001b[39m    \u001b[39m\u001b[39m\"\"\"Loads a web page in the current browser session.\"\"\"\u001b[39;00m\n\u001b[0;32m--> 355\u001b[0m     \u001b[39mself\u001b[39;49m\u001b[39m.\u001b[39;49mexecute(Command\u001b[39m.\u001b[39;49mGET, {\u001b[39m\"\u001b[39;49m\u001b[39murl\u001b[39;49m\u001b[39m\"\u001b[39;49m: url})\n",
      "File \u001b[0;32m~/Documents/gemastik/.venv/lib64/python3.11/site-packages/selenium/webdriver/remote/webdriver.py:344\u001b[0m, in \u001b[0;36mWebDriver.execute\u001b[0;34m(self, driver_command, params)\u001b[0m\n\u001b[1;32m    341\u001b[0m     \u001b[39melif\u001b[39;00m \u001b[39m\"\u001b[39m\u001b[39msessionId\u001b[39m\u001b[39m\"\u001b[39m \u001b[39mnot\u001b[39;00m \u001b[39min\u001b[39;00m params:\n\u001b[1;32m    342\u001b[0m         params[\u001b[39m\"\u001b[39m\u001b[39msessionId\u001b[39m\u001b[39m\"\u001b[39m] \u001b[39m=\u001b[39m \u001b[39mself\u001b[39m\u001b[39m.\u001b[39msession_id\n\u001b[0;32m--> 344\u001b[0m response \u001b[39m=\u001b[39m \u001b[39mself\u001b[39;49m\u001b[39m.\u001b[39;49mcommand_executor\u001b[39m.\u001b[39;49mexecute(driver_command, params)\n\u001b[1;32m    345\u001b[0m \u001b[39mif\u001b[39;00m response:\n\u001b[1;32m    346\u001b[0m     \u001b[39mself\u001b[39m\u001b[39m.\u001b[39merror_handler\u001b[39m.\u001b[39mcheck_response(response)\n",
      "File \u001b[0;32m~/Documents/gemastik/.venv/lib64/python3.11/site-packages/selenium/webdriver/remote/remote_connection.py:290\u001b[0m, in \u001b[0;36mRemoteConnection.execute\u001b[0;34m(self, command, params)\u001b[0m\n\u001b[1;32m    288\u001b[0m data \u001b[39m=\u001b[39m utils\u001b[39m.\u001b[39mdump_json(params)\n\u001b[1;32m    289\u001b[0m url \u001b[39m=\u001b[39m \u001b[39mf\u001b[39m\u001b[39m\"\u001b[39m\u001b[39m{\u001b[39;00m\u001b[39mself\u001b[39m\u001b[39m.\u001b[39m_url\u001b[39m}\u001b[39;00m\u001b[39m{\u001b[39;00mpath\u001b[39m}\u001b[39;00m\u001b[39m\"\u001b[39m\n\u001b[0;32m--> 290\u001b[0m \u001b[39mreturn\u001b[39;00m \u001b[39mself\u001b[39;49m\u001b[39m.\u001b[39;49m_request(command_info[\u001b[39m0\u001b[39;49m], url, body\u001b[39m=\u001b[39;49mdata)\n",
      "File \u001b[0;32m~/Documents/gemastik/.venv/lib64/python3.11/site-packages/selenium/webdriver/remote/remote_connection.py:311\u001b[0m, in \u001b[0;36mRemoteConnection._request\u001b[0;34m(self, method, url, body)\u001b[0m\n\u001b[1;32m    308\u001b[0m     body \u001b[39m=\u001b[39m \u001b[39mNone\u001b[39;00m\n\u001b[1;32m    310\u001b[0m \u001b[39mif\u001b[39;00m \u001b[39mself\u001b[39m\u001b[39m.\u001b[39mkeep_alive:\n\u001b[0;32m--> 311\u001b[0m     response \u001b[39m=\u001b[39m \u001b[39mself\u001b[39;49m\u001b[39m.\u001b[39;49m_conn\u001b[39m.\u001b[39;49mrequest(method, url, body\u001b[39m=\u001b[39;49mbody, headers\u001b[39m=\u001b[39;49mheaders)\n\u001b[1;32m    312\u001b[0m     statuscode \u001b[39m=\u001b[39m response\u001b[39m.\u001b[39mstatus\n\u001b[1;32m    313\u001b[0m \u001b[39melse\u001b[39;00m:\n",
      "File \u001b[0;32m~/Documents/gemastik/.venv/lib64/python3.11/site-packages/urllib3/_request_methods.py:118\u001b[0m, in \u001b[0;36mRequestMethods.request\u001b[0;34m(self, method, url, body, fields, headers, json, **urlopen_kw)\u001b[0m\n\u001b[1;32m    110\u001b[0m     \u001b[39mreturn\u001b[39;00m \u001b[39mself\u001b[39m\u001b[39m.\u001b[39mrequest_encode_url(\n\u001b[1;32m    111\u001b[0m         method,\n\u001b[1;32m    112\u001b[0m         url,\n\u001b[0;32m   (...)\u001b[0m\n\u001b[1;32m    115\u001b[0m         \u001b[39m*\u001b[39m\u001b[39m*\u001b[39murlopen_kw,\n\u001b[1;32m    116\u001b[0m     )\n\u001b[1;32m    117\u001b[0m \u001b[39melse\u001b[39;00m:\n\u001b[0;32m--> 118\u001b[0m     \u001b[39mreturn\u001b[39;00m \u001b[39mself\u001b[39;49m\u001b[39m.\u001b[39;49mrequest_encode_body(\n\u001b[1;32m    119\u001b[0m         method, url, fields\u001b[39m=\u001b[39;49mfields, headers\u001b[39m=\u001b[39;49mheaders, \u001b[39m*\u001b[39;49m\u001b[39m*\u001b[39;49murlopen_kw\n\u001b[1;32m    120\u001b[0m     )\n",
      "File \u001b[0;32m~/Documents/gemastik/.venv/lib64/python3.11/site-packages/urllib3/_request_methods.py:217\u001b[0m, in \u001b[0;36mRequestMethods.request_encode_body\u001b[0;34m(self, method, url, fields, headers, encode_multipart, multipart_boundary, **urlopen_kw)\u001b[0m\n\u001b[1;32m    213\u001b[0m     extra_kw[\u001b[39m\"\u001b[39m\u001b[39mheaders\u001b[39m\u001b[39m\"\u001b[39m]\u001b[39m.\u001b[39msetdefault(\u001b[39m\"\u001b[39m\u001b[39mContent-Type\u001b[39m\u001b[39m\"\u001b[39m, content_type)\n\u001b[1;32m    215\u001b[0m extra_kw\u001b[39m.\u001b[39mupdate(urlopen_kw)\n\u001b[0;32m--> 217\u001b[0m \u001b[39mreturn\u001b[39;00m \u001b[39mself\u001b[39;49m\u001b[39m.\u001b[39;49murlopen(method, url, \u001b[39m*\u001b[39;49m\u001b[39m*\u001b[39;49mextra_kw)\n",
      "File \u001b[0;32m~/Documents/gemastik/.venv/lib64/python3.11/site-packages/urllib3/poolmanager.py:443\u001b[0m, in \u001b[0;36mPoolManager.urlopen\u001b[0;34m(self, method, url, redirect, **kw)\u001b[0m\n\u001b[1;32m    441\u001b[0m     response \u001b[39m=\u001b[39m conn\u001b[39m.\u001b[39murlopen(method, url, \u001b[39m*\u001b[39m\u001b[39m*\u001b[39mkw)\n\u001b[1;32m    442\u001b[0m \u001b[39melse\u001b[39;00m:\n\u001b[0;32m--> 443\u001b[0m     response \u001b[39m=\u001b[39m conn\u001b[39m.\u001b[39;49murlopen(method, u\u001b[39m.\u001b[39;49mrequest_uri, \u001b[39m*\u001b[39;49m\u001b[39m*\u001b[39;49mkw)\n\u001b[1;32m    445\u001b[0m redirect_location \u001b[39m=\u001b[39m redirect \u001b[39mand\u001b[39;00m response\u001b[39m.\u001b[39mget_redirect_location()\n\u001b[1;32m    446\u001b[0m \u001b[39mif\u001b[39;00m \u001b[39mnot\u001b[39;00m redirect_location:\n",
      "File \u001b[0;32m~/Documents/gemastik/.venv/lib64/python3.11/site-packages/urllib3/connectionpool.py:790\u001b[0m, in \u001b[0;36mHTTPConnectionPool.urlopen\u001b[0;34m(self, method, url, body, headers, retries, redirect, assert_same_host, timeout, pool_timeout, release_conn, chunked, body_pos, preload_content, decode_content, **response_kw)\u001b[0m\n\u001b[1;32m    787\u001b[0m response_conn \u001b[39m=\u001b[39m conn \u001b[39mif\u001b[39;00m \u001b[39mnot\u001b[39;00m release_conn \u001b[39melse\u001b[39;00m \u001b[39mNone\u001b[39;00m\n\u001b[1;32m    789\u001b[0m \u001b[39m# Make the request on the HTTPConnection object\u001b[39;00m\n\u001b[0;32m--> 790\u001b[0m response \u001b[39m=\u001b[39m \u001b[39mself\u001b[39;49m\u001b[39m.\u001b[39;49m_make_request(\n\u001b[1;32m    791\u001b[0m     conn,\n\u001b[1;32m    792\u001b[0m     method,\n\u001b[1;32m    793\u001b[0m     url,\n\u001b[1;32m    794\u001b[0m     timeout\u001b[39m=\u001b[39;49mtimeout_obj,\n\u001b[1;32m    795\u001b[0m     body\u001b[39m=\u001b[39;49mbody,\n\u001b[1;32m    796\u001b[0m     headers\u001b[39m=\u001b[39;49mheaders,\n\u001b[1;32m    797\u001b[0m     chunked\u001b[39m=\u001b[39;49mchunked,\n\u001b[1;32m    798\u001b[0m     retries\u001b[39m=\u001b[39;49mretries,\n\u001b[1;32m    799\u001b[0m     response_conn\u001b[39m=\u001b[39;49mresponse_conn,\n\u001b[1;32m    800\u001b[0m     preload_content\u001b[39m=\u001b[39;49mpreload_content,\n\u001b[1;32m    801\u001b[0m     decode_content\u001b[39m=\u001b[39;49mdecode_content,\n\u001b[1;32m    802\u001b[0m     \u001b[39m*\u001b[39;49m\u001b[39m*\u001b[39;49mresponse_kw,\n\u001b[1;32m    803\u001b[0m )\n\u001b[1;32m    805\u001b[0m \u001b[39m# Everything went great!\u001b[39;00m\n\u001b[1;32m    806\u001b[0m clean_exit \u001b[39m=\u001b[39m \u001b[39mTrue\u001b[39;00m\n",
      "File \u001b[0;32m~/Documents/gemastik/.venv/lib64/python3.11/site-packages/urllib3/connectionpool.py:536\u001b[0m, in \u001b[0;36mHTTPConnectionPool._make_request\u001b[0;34m(self, conn, method, url, body, headers, retries, timeout, chunked, response_conn, preload_content, decode_content, enforce_content_length)\u001b[0m\n\u001b[1;32m    534\u001b[0m \u001b[39m# Receive the response from the server\u001b[39;00m\n\u001b[1;32m    535\u001b[0m \u001b[39mtry\u001b[39;00m:\n\u001b[0;32m--> 536\u001b[0m     response \u001b[39m=\u001b[39m conn\u001b[39m.\u001b[39;49mgetresponse()\n\u001b[1;32m    537\u001b[0m \u001b[39mexcept\u001b[39;00m (BaseSSLError, \u001b[39mOSError\u001b[39;00m) \u001b[39mas\u001b[39;00m e:\n\u001b[1;32m    538\u001b[0m     \u001b[39mself\u001b[39m\u001b[39m.\u001b[39m_raise_timeout(err\u001b[39m=\u001b[39me, url\u001b[39m=\u001b[39murl, timeout_value\u001b[39m=\u001b[39mread_timeout)\n",
      "File \u001b[0;32m~/Documents/gemastik/.venv/lib64/python3.11/site-packages/urllib3/connection.py:454\u001b[0m, in \u001b[0;36mHTTPConnection.getresponse\u001b[0;34m(self)\u001b[0m\n\u001b[1;32m    451\u001b[0m \u001b[39mfrom\u001b[39;00m \u001b[39m.\u001b[39;00m\u001b[39mresponse\u001b[39;00m \u001b[39mimport\u001b[39;00m HTTPResponse\n\u001b[1;32m    453\u001b[0m \u001b[39m# Get the response from http.client.HTTPConnection\u001b[39;00m\n\u001b[0;32m--> 454\u001b[0m httplib_response \u001b[39m=\u001b[39m \u001b[39msuper\u001b[39;49m()\u001b[39m.\u001b[39;49mgetresponse()\n\u001b[1;32m    456\u001b[0m \u001b[39mtry\u001b[39;00m:\n\u001b[1;32m    457\u001b[0m     assert_header_parsing(httplib_response\u001b[39m.\u001b[39mmsg)\n",
      "File \u001b[0;32m/usr/lib64/python3.11/http/client.py:1375\u001b[0m, in \u001b[0;36mHTTPConnection.getresponse\u001b[0;34m(self)\u001b[0m\n\u001b[1;32m   1373\u001b[0m \u001b[39mtry\u001b[39;00m:\n\u001b[1;32m   1374\u001b[0m     \u001b[39mtry\u001b[39;00m:\n\u001b[0;32m-> 1375\u001b[0m         response\u001b[39m.\u001b[39;49mbegin()\n\u001b[1;32m   1376\u001b[0m     \u001b[39mexcept\u001b[39;00m \u001b[39mConnectionError\u001b[39;00m:\n\u001b[1;32m   1377\u001b[0m         \u001b[39mself\u001b[39m\u001b[39m.\u001b[39mclose()\n",
      "File \u001b[0;32m/usr/lib64/python3.11/http/client.py:318\u001b[0m, in \u001b[0;36mHTTPResponse.begin\u001b[0;34m(self)\u001b[0m\n\u001b[1;32m    316\u001b[0m \u001b[39m# read until we get a non-100 response\u001b[39;00m\n\u001b[1;32m    317\u001b[0m \u001b[39mwhile\u001b[39;00m \u001b[39mTrue\u001b[39;00m:\n\u001b[0;32m--> 318\u001b[0m     version, status, reason \u001b[39m=\u001b[39m \u001b[39mself\u001b[39;49m\u001b[39m.\u001b[39;49m_read_status()\n\u001b[1;32m    319\u001b[0m     \u001b[39mif\u001b[39;00m status \u001b[39m!=\u001b[39m CONTINUE:\n\u001b[1;32m    320\u001b[0m         \u001b[39mbreak\u001b[39;00m\n",
      "File \u001b[0;32m/usr/lib64/python3.11/http/client.py:279\u001b[0m, in \u001b[0;36mHTTPResponse._read_status\u001b[0;34m(self)\u001b[0m\n\u001b[1;32m    278\u001b[0m \u001b[39mdef\u001b[39;00m \u001b[39m_read_status\u001b[39m(\u001b[39mself\u001b[39m):\n\u001b[0;32m--> 279\u001b[0m     line \u001b[39m=\u001b[39m \u001b[39mstr\u001b[39m(\u001b[39mself\u001b[39m\u001b[39m.\u001b[39mfp\u001b[39m.\u001b[39mreadline(_MAXLINE \u001b[39m+\u001b[39m \u001b[39m1\u001b[39m), \u001b[39m\"\u001b[39m\u001b[39miso-8859-1\u001b[39m\u001b[39m\"\u001b[39m)\n\u001b[1;32m    280\u001b[0m     \u001b[39mif\u001b[39;00m \u001b[39mlen\u001b[39m(line) \u001b[39m>\u001b[39m _MAXLINE:\n\u001b[1;32m    281\u001b[0m         \u001b[39mraise\u001b[39;00m LineTooLong(\u001b[39m\"\u001b[39m\u001b[39mstatus line\u001b[39m\u001b[39m\"\u001b[39m)\n",
      "File \u001b[0;32m/usr/lib64/python3.11/socket.py:706\u001b[0m, in \u001b[0;36mSocketIO.readinto\u001b[0;34m(self, b)\u001b[0m\n\u001b[1;32m    704\u001b[0m \u001b[39mwhile\u001b[39;00m \u001b[39mTrue\u001b[39;00m:\n\u001b[1;32m    705\u001b[0m     \u001b[39mtry\u001b[39;00m:\n\u001b[0;32m--> 706\u001b[0m         \u001b[39mreturn\u001b[39;00m \u001b[39mself\u001b[39;49m\u001b[39m.\u001b[39;49m_sock\u001b[39m.\u001b[39;49mrecv_into(b)\n\u001b[1;32m    707\u001b[0m     \u001b[39mexcept\u001b[39;00m timeout:\n\u001b[1;32m    708\u001b[0m         \u001b[39mself\u001b[39m\u001b[39m.\u001b[39m_timeout_occurred \u001b[39m=\u001b[39m \u001b[39mTrue\u001b[39;00m\n",
      "\u001b[0;31mKeyboardInterrupt\u001b[0m: "
     ]
    }
   ],
   "source": [
    "df['text'] = df['url'].apply(get_story_content)\n",
    "df.to_csv('../data/stories.csv')"
   ]
  },
  {
   "cell_type": "code",
   "execution_count": null,
   "metadata": {},
   "outputs": [
    {
     "data": {
      "text/plain": [
       "35"
      ]
     },
     "execution_count": 35,
     "metadata": {},
     "output_type": "execute_result"
    }
   ],
   "source": [
    "\n",
    "browser.get(f\"https://cerpenmu.com/cerpen-kehidupan/domi.html\")\n",
    "elements = browser.find_elements(By.CSS_SELECTOR, \"div#content > article.post > p\")\n",
    "\n",
    "len(elements)"
   ]
  },
  {
   "cell_type": "code",
   "execution_count": null,
   "metadata": {},
   "outputs": [
    {
     "name": "stdout",
     "output_type": "stream",
     "text": [
      "['', 'Dua bulan kemudian Domi mati. Sakitnya lumayan mengerikan. Kanker usus stadium empat. Ketika dibawa ke dokter di Kota Padang, dokter mengatakan bahwa lambungnya harus diangkat. Ia meraung, menangis banjir air mata.', 'Begitu ia selalu. Kalau ngomong mulutnya tak mau berhenti, suaranya keras seperti berteriak. Padahal, orang yang diajaknya berbicara ada di depannya. Ia tak takut pada siapa pun. Begitu ia pernah berkata. Dan keyakinannya pada dirinya sangat besar. Dan sepertinya tak ada yang bisa melebihi dirinya. Tapi, kamu akan terkejut saat melihat dia kena masalah. Ia akan menangis seperti anak kecil.', 'Mulailah proses pengobatan. Bolak-balik ke rumah sakit di kota tempat tinggalnya dan pusat kota yang berjarak tiga jam perjalanan. Terakhir ia kosultasi dengan ahli herbal. Ia makan obat herbal.', 'Hari ini Domi sudah mati. Alan duduk kaku di luar, dekat orang memandikan jenazah Domi. Habis itu Domi dikafani. Lalu, Domi diangkat menuju ambulans, untuk diantar ke Jambon, pemakaman umum.\\nAlan turun langsung dalam proses penguburan. Ia ikut menggali tanah untuk menimbun jenazah Domi. Pinggangnya sakit, Alan tahan saja. Keringat Alan membasahai sampai ujung kakinya. Keringat terasa dingin.\\nSetelah lubang kubur penuh, tanah mulai diatur membulat. Alan menampung tanah dengan tangannya. Tanah dipukul-pukulkan serapi mungkin.', '—', '“Kau tahu ndak. Perangaimu, mulutmu itu tak ada akhlak. Coba kau berpikir lagi. Bisa ndak kau bersikap yang baik. Ini seperti orang tak berperasaan saja.” Mata Domi membelalak menatap Alan.', 'Alan bingung. Tak tahu ia salah apa, tiba-tiba Domi sudah marah-marah kepadanya. Domi, sahabatnya. Banyak yang sudah mereka jalani bersama.', 'Alan tak membalas. Orang ramai di kantor. Ia tak mau ribut di depan orang banyak. Kalau Domi laki-laki seharusnya berani menantang di berdua saja, bukan koar-koar di depan orang banyak. Para ibu-ibu teman kerja kantor mereka.\\nDan Alan sakit hati.', 'Suatu saat akan datang masanya. Semua akan berbalas. Itu hukum dunia. Baik kaubuat, baik kaudapat. Buruk kaubuat, buruk kaudapat. Domi akan menerima balasan keburukannya kalau waktunya datang.', 'Alan melangkah ke meja kantornya dengan dada terbakar.', 'Tahun-tahun berlalu. Alan terus belajar dari kehidupan. Sampai pada saat ia mengalami berbagai musibah silih berganti. Alan paham bahwa ia harus membuang semua dendam. Alan paham bahwa ia harus memaafkan semua orang. Dengan begitu, jiwanya jadi tenang. Setiap musibah menambah kedewasaan seseorang.\\nAlan juga telah memaafkan Domi. Seratus persen. Sebagaimana Alan memaafkan orang lain yang pernah mampir dalam hidupnya. Hati Alan menjadi ringan.', '—', 'Perdebatan menjadi keras. Domi seperti biasa dengan suaranya yang tak bisa pelan dan tak mau berhenti.', 'Alan kebalikannya. Ia lebih tidak suka berbicara kalau itu tak penting. Tapi, ini masalah ia harus berbicara. Dan kalau untuk keras-kerasan suara, suara Alan bisa lebih keras dari Domi. Dan itulah yang terjadi. Alan menyampaikan pendapatnya dengan keras, tegas, dan langsung menembak pada orang tertentu, Domi. Alan ingin berpesan pada Domi untuk membungkam kesombongannya yang merasa sok dominan.', 'Alan tahu Domi tak akan berani. Dan itu benar. Domi diam, tak berkomentar lagi. Muka Domi memerah. Alan sedang membalas sesuatu di masa lalu, pikir Domi.', 'Setelah beropini dengan bumbu emosi, Alan pergi. Ia izin dengan pimpinan rapat. Alan yakin, kalau ia masih di ruagan itu, hal yang lebih buruk bisa terjadi. Dalam banyak hal, Alan lebih banyak diam. Tapi, kalau ia sudah berbicara dan diikuti emosi, panasnya tak turun-turun. Naik terus.\\nAlan tahu itu. Makanya, ia lekas pergi dari ruang rapat itu. Bisa saja perdebatan itu menjadi pertengkaran fisik.', 'Alan melangkah dengan langkah panjang ke kursi kantornya. Ia duduk, menarik napas dalam-dalam. Hari telah menjelang sore. Terang matahari mulai redup. Angin lembut menyapa, melewati jendela kaca yang terbuka. Alan menatap ke luar. Ia kembali menarik napas dalam-dalam.', 'Alan tahu, Domi pasti merasa ia telah membalaskan suatu peristiwa dulu. Peristiwa Domi membentak-bentaknya, sedang ia tak tahu apa salahnya. Sekitar sepuluh tahun yang lalu. Tak ada niatnya untuk itu. Ia hanya ingin menyampaikan pendapat pribadi dengan gayanya yang masih belum bisa mengendalikan emosi.\\n“Terserahlah ia menyangka apa,” bisik hati Alan, “pertanggungjawabannya pada Allah, bukan pada Domi.”', '—', 'Alan kagum dengan sikap Domi menjalani penyakitnya. Laki-laki besar mulut yang cengeng, itu pandangan Alan pada Domi. Tapi, di hari-hari sakit yang mengantar pada kematiannya, sikap Domi membuat Alan kagum. Alan merasa ia tak akan bisa sekuat Domi dalam kondisi yang serupa.\\nDomi kalau ia merasa agak sehat, ia masuk kantor. Seperti biasa, ceria, menyapa banyak orang, dan bercerita apa saja yang terlintas di kepalanya. Ia tetap penuh senyum, tawa. Ia melucu seperti biasa. Ia selalu berusaha membuat orang tertawa.', 'Alan memandang Domi dengan perasaan aneh. Dalam hati Alan, dan hati semua orang, besar kemungkinan Domi tak akan lama lagi hidup. Kematian sudah di depan matanya. Semua orang sadar itu, dan Domi seharusnya juga tahu. Tapi, Domi tak berkurang selera humornya. Beberapa kawan yang biasanya tertawa, masih tersenyum tapi kecut.', 'Penyakit kanker merangkak dari stadium tiga menuju empat. Berat badan Domi turun lebih dari dua puluh kilogram. Domi yang gemuk bulat, menjadi kurus. Semua celananya jadi lapang kedodoran. Makanannya tak boleh sembarangan.\\nSuatu kesempatan, di ruang kantor hanya mereka berdua, Domi dan Alan. Domi mendekati Alan. Dengan kebesaran jiwanya, ia meminta maaf kalau pernah bersalah. Alan menyambut uluran tangan Domi secepat kilat. Ia telah lama memaafkan Domi, semua salahnya. Semuanya, tak bersisa. Hanya Allah yang tahu.', '—', 'Keringat Alan demikian banyak. Ia memang telah lama tak kerja fisik karena telah lama tak bisa kerja berat. Ia tabrakan motor yang membuat tulang bahunya retak, hampir patah. Berbulan-bulan ia tak bisa bergerak. Lebih setahun ia tak bisa banyak kerja.', 'Tanah kuning Alan pukul-pukul. Nisan kayu itu luruskan dengan tanah di tangannya. Alan mengusap keringat yang masuk ke matanya dengan lengan bajunya. Ia tak tahu lagi mana yang keringat, mana yang air mata. Ia sangat tak ingin menangis di depan banyak orang. Ia harus menjaga muruah sebagai lelaki. Lelaki tak menangis oleh ujian sepahit apa pun.', 'Penguburan Domi selesai. Orang-orang mulai bubar. Jambon telah sepi. Alan duduk jongkok. Kedua tangannya ia tempelkan ke gundukan tanah kuning basah itu. Di bawah tanah itu ada Domi.', 'Matahari condong sepuluh derajat dari tegak lurus, di atas kepala. Kuik elang lebih seperti pekikan histeris. Seperti suara tangis dari hati yang teriris.', 'Alan mengusap-usap dadanya. Penyakit sesak napasnya semakin menjadi-jadi setiap hari.', 'Domi telah mati.', 'Sepertinya aku akan menyusul tak lama lagi.', '25 Februari 2023', 'Cerpen Karangan: Yudi Hendra\\nBlog / Facebook: Yudi Hendra\\ningin jadi orang berguna', 'Cerpen Domi merupakan cerita pendek karangan Yudi Hendra, kamu dapat mengunjungi halaman khusus penulisnya untuk membaca cerpen cerpen terbaru buatannya.', '\"Kamu suka cerpen ini?, Share donk ke temanmu!\"']\n"
     ]
    }
   ],
   "source": [
    "paragraphs = []\n",
    "\n",
    "for element in elements:\n",
    "    paragraphs.append(element.text)\n",
    "\n",
    "print(paragraphs)"
   ]
  },
  {
   "cell_type": "code",
   "execution_count": null,
   "metadata": {},
   "outputs": [
    {
     "data": {
      "text/plain": [
       "['Dua bulan kemudian Domi mati. Sakitnya lumayan mengerikan. Kanker usus stadium empat. Ketika dibawa ke dokter di Kota Padang, dokter mengatakan bahwa lambungnya harus diangkat. Ia meraung, menangis banjir air mata.',\n",
       " 'Begitu ia selalu. Kalau ngomong mulutnya tak mau berhenti, suaranya keras seperti berteriak. Padahal, orang yang diajaknya berbicara ada di depannya. Ia tak takut pada siapa pun. Begitu ia pernah berkata. Dan keyakinannya pada dirinya sangat besar. Dan sepertinya tak ada yang bisa melebihi dirinya. Tapi, kamu akan terkejut saat melihat dia kena masalah. Ia akan menangis seperti anak kecil.',\n",
       " 'Mulailah proses pengobatan. Bolak-balik ke rumah sakit di kota tempat tinggalnya dan pusat kota yang berjarak tiga jam perjalanan. Terakhir ia kosultasi dengan ahli herbal. Ia makan obat herbal.',\n",
       " 'Hari ini Domi sudah mati. Alan duduk kaku di luar, dekat orang memandikan jenazah Domi. Habis itu Domi dikafani. Lalu, Domi diangkat menuju ambulans, untuk diantar ke Jambon, pemakaman umum.\\nAlan turun langsung dalam proses penguburan. Ia ikut menggali tanah untuk menimbun jenazah Domi. Pinggangnya sakit, Alan tahan saja. Keringat Alan membasahai sampai ujung kakinya. Keringat terasa dingin.\\nSetelah lubang kubur penuh, tanah mulai diatur membulat. Alan menampung tanah dengan tangannya. Tanah dipukul-pukulkan serapi mungkin.',\n",
       " '—',\n",
       " '“Kau tahu ndak. Perangaimu, mulutmu itu tak ada akhlak. Coba kau berpikir lagi. Bisa ndak kau bersikap yang baik. Ini seperti orang tak berperasaan saja.” Mata Domi membelalak menatap Alan.',\n",
       " 'Alan bingung. Tak tahu ia salah apa, tiba-tiba Domi sudah marah-marah kepadanya. Domi, sahabatnya. Banyak yang sudah mereka jalani bersama.',\n",
       " 'Alan tak membalas. Orang ramai di kantor. Ia tak mau ribut di depan orang banyak. Kalau Domi laki-laki seharusnya berani menantang di berdua saja, bukan koar-koar di depan orang banyak. Para ibu-ibu teman kerja kantor mereka.\\nDan Alan sakit hati.',\n",
       " 'Suatu saat akan datang masanya. Semua akan berbalas. Itu hukum dunia. Baik kaubuat, baik kaudapat. Buruk kaubuat, buruk kaudapat. Domi akan menerima balasan keburukannya kalau waktunya datang.',\n",
       " 'Alan melangkah ke meja kantornya dengan dada terbakar.',\n",
       " 'Tahun-tahun berlalu. Alan terus belajar dari kehidupan. Sampai pada saat ia mengalami berbagai musibah silih berganti. Alan paham bahwa ia harus membuang semua dendam. Alan paham bahwa ia harus memaafkan semua orang. Dengan begitu, jiwanya jadi tenang. Setiap musibah menambah kedewasaan seseorang.\\nAlan juga telah memaafkan Domi. Seratus persen. Sebagaimana Alan memaafkan orang lain yang pernah mampir dalam hidupnya. Hati Alan menjadi ringan.',\n",
       " '—',\n",
       " 'Perdebatan menjadi keras. Domi seperti biasa dengan suaranya yang tak bisa pelan dan tak mau berhenti.',\n",
       " 'Alan kebalikannya. Ia lebih tidak suka berbicara kalau itu tak penting. Tapi, ini masalah ia harus berbicara. Dan kalau untuk keras-kerasan suara, suara Alan bisa lebih keras dari Domi. Dan itulah yang terjadi. Alan menyampaikan pendapatnya dengan keras, tegas, dan langsung menembak pada orang tertentu, Domi. Alan ingin berpesan pada Domi untuk membungkam kesombongannya yang merasa sok dominan.',\n",
       " 'Alan tahu Domi tak akan berani. Dan itu benar. Domi diam, tak berkomentar lagi. Muka Domi memerah. Alan sedang membalas sesuatu di masa lalu, pikir Domi.',\n",
       " 'Setelah beropini dengan bumbu emosi, Alan pergi. Ia izin dengan pimpinan rapat. Alan yakin, kalau ia masih di ruagan itu, hal yang lebih buruk bisa terjadi. Dalam banyak hal, Alan lebih banyak diam. Tapi, kalau ia sudah berbicara dan diikuti emosi, panasnya tak turun-turun. Naik terus.\\nAlan tahu itu. Makanya, ia lekas pergi dari ruang rapat itu. Bisa saja perdebatan itu menjadi pertengkaran fisik.',\n",
       " 'Alan melangkah dengan langkah panjang ke kursi kantornya. Ia duduk, menarik napas dalam-dalam. Hari telah menjelang sore. Terang matahari mulai redup. Angin lembut menyapa, melewati jendela kaca yang terbuka. Alan menatap ke luar. Ia kembali menarik napas dalam-dalam.',\n",
       " 'Alan tahu, Domi pasti merasa ia telah membalaskan suatu peristiwa dulu. Peristiwa Domi membentak-bentaknya, sedang ia tak tahu apa salahnya. Sekitar sepuluh tahun yang lalu. Tak ada niatnya untuk itu. Ia hanya ingin menyampaikan pendapat pribadi dengan gayanya yang masih belum bisa mengendalikan emosi.\\n“Terserahlah ia menyangka apa,” bisik hati Alan, “pertanggungjawabannya pada Allah, bukan pada Domi.”',\n",
       " '—',\n",
       " 'Alan kagum dengan sikap Domi menjalani penyakitnya. Laki-laki besar mulut yang cengeng, itu pandangan Alan pada Domi. Tapi, di hari-hari sakit yang mengantar pada kematiannya, sikap Domi membuat Alan kagum. Alan merasa ia tak akan bisa sekuat Domi dalam kondisi yang serupa.\\nDomi kalau ia merasa agak sehat, ia masuk kantor. Seperti biasa, ceria, menyapa banyak orang, dan bercerita apa saja yang terlintas di kepalanya. Ia tetap penuh senyum, tawa. Ia melucu seperti biasa. Ia selalu berusaha membuat orang tertawa.',\n",
       " 'Alan memandang Domi dengan perasaan aneh. Dalam hati Alan, dan hati semua orang, besar kemungkinan Domi tak akan lama lagi hidup. Kematian sudah di depan matanya. Semua orang sadar itu, dan Domi seharusnya juga tahu. Tapi, Domi tak berkurang selera humornya. Beberapa kawan yang biasanya tertawa, masih tersenyum tapi kecut.',\n",
       " 'Penyakit kanker merangkak dari stadium tiga menuju empat. Berat badan Domi turun lebih dari dua puluh kilogram. Domi yang gemuk bulat, menjadi kurus. Semua celananya jadi lapang kedodoran. Makanannya tak boleh sembarangan.\\nSuatu kesempatan, di ruang kantor hanya mereka berdua, Domi dan Alan. Domi mendekati Alan. Dengan kebesaran jiwanya, ia meminta maaf kalau pernah bersalah. Alan menyambut uluran tangan Domi secepat kilat. Ia telah lama memaafkan Domi, semua salahnya. Semuanya, tak bersisa. Hanya Allah yang tahu.',\n",
       " '—',\n",
       " 'Keringat Alan demikian banyak. Ia memang telah lama tak kerja fisik karena telah lama tak bisa kerja berat. Ia tabrakan motor yang membuat tulang bahunya retak, hampir patah. Berbulan-bulan ia tak bisa bergerak. Lebih setahun ia tak bisa banyak kerja.',\n",
       " 'Tanah kuning Alan pukul-pukul. Nisan kayu itu luruskan dengan tanah di tangannya. Alan mengusap keringat yang masuk ke matanya dengan lengan bajunya. Ia tak tahu lagi mana yang keringat, mana yang air mata. Ia sangat tak ingin menangis di depan banyak orang. Ia harus menjaga muruah sebagai lelaki. Lelaki tak menangis oleh ujian sepahit apa pun.',\n",
       " 'Penguburan Domi selesai. Orang-orang mulai bubar. Jambon telah sepi. Alan duduk jongkok. Kedua tangannya ia tempelkan ke gundukan tanah kuning basah itu. Di bawah tanah itu ada Domi.',\n",
       " 'Matahari condong sepuluh derajat dari tegak lurus, di atas kepala. Kuik elang lebih seperti pekikan histeris. Seperti suara tangis dari hati yang teriris.',\n",
       " 'Alan mengusap-usap dadanya. Penyakit sesak napasnya semakin menjadi-jadi setiap hari.',\n",
       " 'Domi telah mati.',\n",
       " 'Sepertinya aku akan menyusul tak lama lagi.',\n",
       " '25 Februari 2023',\n",
       " 'Cerpen Karangan: Yudi Hendra\\nBlog / Facebook: Yudi Hendra\\ningin jadi orang berguna']"
      ]
     },
     "execution_count": 37,
     "metadata": {},
     "output_type": "execute_result"
    }
   ],
   "source": [
    "# remove template paragraph -> index: 0, -1, -2\n",
    "filtered_paragraphs = paragraphs[1:-2]\n",
    "filtered_paragraphs"
   ]
  },
  {
   "cell_type": "code",
   "execution_count": null,
   "metadata": {},
   "outputs": [
    {
     "data": {
      "text/plain": [
       "' Dua bulan kemudian Domi mati. Sakitnya lumayan mengerikan. Kanker usus stadium empat. Ketika dibawa ke dokter di Kota Padang, dokter mengatakan bahwa lambungnya harus diangkat. Ia meraung, menangis banjir air mata. Begitu ia selalu. Kalau ngomong mulutnya tak mau berhenti, suaranya keras seperti berteriak. Padahal, orang yang diajaknya berbicara ada di depannya. Ia tak takut pada siapa pun. Begitu ia pernah berkata. Dan keyakinannya pada dirinya sangat besar. Dan sepertinya tak ada yang bisa melebihi dirinya. Tapi, kamu akan terkejut saat melihat dia kena masalah. Ia akan menangis seperti anak kecil. Mulailah proses pengobatan. Bolak-balik ke rumah sakit di kota tempat tinggalnya dan pusat kota yang berjarak tiga jam perjalanan. Terakhir ia kosultasi dengan ahli herbal. Ia makan obat herbal. Hari ini Domi sudah mati. Alan duduk kaku di luar, dekat orang memandikan jenazah Domi. Habis itu Domi dikafani. Lalu, Domi diangkat menuju ambulans, untuk diantar ke Jambon, pemakaman umum.\\nAlan turun langsung dalam proses penguburan. Ia ikut menggali tanah untuk menimbun jenazah Domi. Pinggangnya sakit, Alan tahan saja. Keringat Alan membasahai sampai ujung kakinya. Keringat terasa dingin.\\nSetelah lubang kubur penuh, tanah mulai diatur membulat. Alan menampung tanah dengan tangannya. Tanah dipukul-pukulkan serapi mungkin. — “Kau tahu ndak. Perangaimu, mulutmu itu tak ada akhlak. Coba kau berpikir lagi. Bisa ndak kau bersikap yang baik. Ini seperti orang tak berperasaan saja.” Mata Domi membelalak menatap Alan. Alan bingung. Tak tahu ia salah apa, tiba-tiba Domi sudah marah-marah kepadanya. Domi, sahabatnya. Banyak yang sudah mereka jalani bersama. Alan tak membalas. Orang ramai di kantor. Ia tak mau ribut di depan orang banyak. Kalau Domi laki-laki seharusnya berani menantang di berdua saja, bukan koar-koar di depan orang banyak. Para ibu-ibu teman kerja kantor mereka.\\nDan Alan sakit hati. Suatu saat akan datang masanya. Semua akan berbalas. Itu hukum dunia. Baik kaubuat, baik kaudapat. Buruk kaubuat, buruk kaudapat. Domi akan menerima balasan keburukannya kalau waktunya datang. Alan melangkah ke meja kantornya dengan dada terbakar. Tahun-tahun berlalu. Alan terus belajar dari kehidupan. Sampai pada saat ia mengalami berbagai musibah silih berganti. Alan paham bahwa ia harus membuang semua dendam. Alan paham bahwa ia harus memaafkan semua orang. Dengan begitu, jiwanya jadi tenang. Setiap musibah menambah kedewasaan seseorang.\\nAlan juga telah memaafkan Domi. Seratus persen. Sebagaimana Alan memaafkan orang lain yang pernah mampir dalam hidupnya. Hati Alan menjadi ringan. — Perdebatan menjadi keras. Domi seperti biasa dengan suaranya yang tak bisa pelan dan tak mau berhenti. Alan kebalikannya. Ia lebih tidak suka berbicara kalau itu tak penting. Tapi, ini masalah ia harus berbicara. Dan kalau untuk keras-kerasan suara, suara Alan bisa lebih keras dari Domi. Dan itulah yang terjadi. Alan menyampaikan pendapatnya dengan keras, tegas, dan langsung menembak pada orang tertentu, Domi. Alan ingin berpesan pada Domi untuk membungkam kesombongannya yang merasa sok dominan. Alan tahu Domi tak akan berani. Dan itu benar. Domi diam, tak berkomentar lagi. Muka Domi memerah. Alan sedang membalas sesuatu di masa lalu, pikir Domi. Setelah beropini dengan bumbu emosi, Alan pergi. Ia izin dengan pimpinan rapat. Alan yakin, kalau ia masih di ruagan itu, hal yang lebih buruk bisa terjadi. Dalam banyak hal, Alan lebih banyak diam. Tapi, kalau ia sudah berbicara dan diikuti emosi, panasnya tak turun-turun. Naik terus.\\nAlan tahu itu. Makanya, ia lekas pergi dari ruang rapat itu. Bisa saja perdebatan itu menjadi pertengkaran fisik. Alan melangkah dengan langkah panjang ke kursi kantornya. Ia duduk, menarik napas dalam-dalam. Hari telah menjelang sore. Terang matahari mulai redup. Angin lembut menyapa, melewati jendela kaca yang terbuka. Alan menatap ke luar. Ia kembali menarik napas dalam-dalam. Alan tahu, Domi pasti merasa ia telah membalaskan suatu peristiwa dulu. Peristiwa Domi membentak-bentaknya, sedang ia tak tahu apa salahnya. Sekitar sepuluh tahun yang lalu. Tak ada niatnya untuk itu. Ia hanya ingin menyampaikan pendapat pribadi dengan gayanya yang masih belum bisa mengendalikan emosi.\\n“Terserahlah ia menyangka apa,” bisik hati Alan, “pertanggungjawabannya pada Allah, bukan pada Domi.” — Alan kagum dengan sikap Domi menjalani penyakitnya. Laki-laki besar mulut yang cengeng, itu pandangan Alan pada Domi. Tapi, di hari-hari sakit yang mengantar pada kematiannya, sikap Domi membuat Alan kagum. Alan merasa ia tak akan bisa sekuat Domi dalam kondisi yang serupa.\\nDomi kalau ia merasa agak sehat, ia masuk kantor. Seperti biasa, ceria, menyapa banyak orang, dan bercerita apa saja yang terlintas di kepalanya. Ia tetap penuh senyum, tawa. Ia melucu seperti biasa. Ia selalu berusaha membuat orang tertawa. Alan memandang Domi dengan perasaan aneh. Dalam hati Alan, dan hati semua orang, besar kemungkinan Domi tak akan lama lagi hidup. Kematian sudah di depan matanya. Semua orang sadar itu, dan Domi seharusnya juga tahu. Tapi, Domi tak berkurang selera humornya. Beberapa kawan yang biasanya tertawa, masih tersenyum tapi kecut. Penyakit kanker merangkak dari stadium tiga menuju empat. Berat badan Domi turun lebih dari dua puluh kilogram. Domi yang gemuk bulat, menjadi kurus. Semua celananya jadi lapang kedodoran. Makanannya tak boleh sembarangan.\\nSuatu kesempatan, di ruang kantor hanya mereka berdua, Domi dan Alan. Domi mendekati Alan. Dengan kebesaran jiwanya, ia meminta maaf kalau pernah bersalah. Alan menyambut uluran tangan Domi secepat kilat. Ia telah lama memaafkan Domi, semua salahnya. Semuanya, tak bersisa. Hanya Allah yang tahu. — Keringat Alan demikian banyak. Ia memang telah lama tak kerja fisik karena telah lama tak bisa kerja berat. Ia tabrakan motor yang membuat tulang bahunya retak, hampir patah. Berbulan-bulan ia tak bisa bergerak. Lebih setahun ia tak bisa banyak kerja. Tanah kuning Alan pukul-pukul. Nisan kayu itu luruskan dengan tanah di tangannya. Alan mengusap keringat yang masuk ke matanya dengan lengan bajunya. Ia tak tahu lagi mana yang keringat, mana yang air mata. Ia sangat tak ingin menangis di depan banyak orang. Ia harus menjaga muruah sebagai lelaki. Lelaki tak menangis oleh ujian sepahit apa pun. Penguburan Domi selesai. Orang-orang mulai bubar. Jambon telah sepi. Alan duduk jongkok. Kedua tangannya ia tempelkan ke gundukan tanah kuning basah itu. Di bawah tanah itu ada Domi. Matahari condong sepuluh derajat dari tegak lurus, di atas kepala. Kuik elang lebih seperti pekikan histeris. Seperti suara tangis dari hati yang teriris. Alan mengusap-usap dadanya. Penyakit sesak napasnya semakin menjadi-jadi setiap hari. Domi telah mati. Sepertinya aku akan menyusul tak lama lagi. 25 Februari 2023 Cerpen Karangan: Yudi Hendra\\nBlog / Facebook: Yudi Hendra\\ningin jadi orang berguna Cerpen Domi merupakan cerita pendek karangan Yudi Hendra, kamu dapat mengunjungi halaman khusus penulisnya untuk membaca cerpen cerpen terbaru buatannya. \"Kamu suka cerpen ini?, Share donk ke temanmu!\"'"
      ]
     },
     "execution_count": 47,
     "metadata": {},
     "output_type": "execute_result"
    }
   ],
   "source": [
    "all_text = ' '.join(paragraphs)\n",
    "all_text"
   ]
  },
  {
   "attachments": {},
   "cell_type": "markdown",
   "metadata": {},
   "source": [
    "# Method 2: BS4"
   ]
  },
  {
   "cell_type": "code",
   "execution_count": 22,
   "metadata": {},
   "outputs": [],
   "source": [
    "import pandas as pd\n",
    "import requests"
   ]
  },
  {
   "cell_type": "code",
   "execution_count": 27,
   "metadata": {},
   "outputs": [
    {
     "ename": "FileNotFoundError",
     "evalue": "[Errno 2] No such file or directory: '../data/stories/http://cerpenmu.com/cerpen-kehidupan/prosa-tentang-senyuman.html'",
     "output_type": "error",
     "traceback": [
      "\u001b[0;31m---------------------------------------------------------------------------\u001b[0m",
      "\u001b[0;31mFileNotFoundError\u001b[0m                         Traceback (most recent call last)",
      "Cell \u001b[0;32mIn[27], line 13\u001b[0m\n\u001b[1;32m     11\u001b[0m html_content \u001b[39m=\u001b[39m response\u001b[39m.\u001b[39mtext\n\u001b[1;32m     12\u001b[0m filename \u001b[39m=\u001b[39m \u001b[39mf\u001b[39m\u001b[39m\"\u001b[39m\u001b[39m../data/stories/\u001b[39m\u001b[39m{\u001b[39;00murl\u001b[39m}\u001b[39;00m\u001b[39m\"\u001b[39m\n\u001b[0;32m---> 13\u001b[0m \u001b[39mwith\u001b[39;00m \u001b[39mopen\u001b[39;49m(filename, \u001b[39m\"\u001b[39;49m\u001b[39mw+\u001b[39;49m\u001b[39m\"\u001b[39;49m) \u001b[39mas\u001b[39;00m file:\n\u001b[1;32m     14\u001b[0m     file\u001b[39m.\u001b[39mwrite(html_content)\n\u001b[1;32m     15\u001b[0m     file\u001b[39m.\u001b[39mclose()\n",
      "File \u001b[0;32m~/Documents/gemastik/.venv/lib64/python3.11/site-packages/IPython/core/interactiveshell.py:284\u001b[0m, in \u001b[0;36m_modified_open\u001b[0;34m(file, *args, **kwargs)\u001b[0m\n\u001b[1;32m    277\u001b[0m \u001b[39mif\u001b[39;00m file \u001b[39min\u001b[39;00m {\u001b[39m0\u001b[39m, \u001b[39m1\u001b[39m, \u001b[39m2\u001b[39m}:\n\u001b[1;32m    278\u001b[0m     \u001b[39mraise\u001b[39;00m \u001b[39mValueError\u001b[39;00m(\n\u001b[1;32m    279\u001b[0m         \u001b[39mf\u001b[39m\u001b[39m\"\u001b[39m\u001b[39mIPython won\u001b[39m\u001b[39m'\u001b[39m\u001b[39mt let you open fd=\u001b[39m\u001b[39m{\u001b[39;00mfile\u001b[39m}\u001b[39;00m\u001b[39m by default \u001b[39m\u001b[39m\"\u001b[39m\n\u001b[1;32m    280\u001b[0m         \u001b[39m\"\u001b[39m\u001b[39mas it is likely to crash IPython. If you know what you are doing, \u001b[39m\u001b[39m\"\u001b[39m\n\u001b[1;32m    281\u001b[0m         \u001b[39m\"\u001b[39m\u001b[39myou can use builtins\u001b[39m\u001b[39m'\u001b[39m\u001b[39m open.\u001b[39m\u001b[39m\"\u001b[39m\n\u001b[1;32m    282\u001b[0m     )\n\u001b[0;32m--> 284\u001b[0m \u001b[39mreturn\u001b[39;00m io_open(file, \u001b[39m*\u001b[39;49margs, \u001b[39m*\u001b[39;49m\u001b[39m*\u001b[39;49mkwargs)\n",
      "\u001b[0;31mFileNotFoundError\u001b[0m: [Errno 2] No such file or directory: '../data/stories/http://cerpenmu.com/cerpen-kehidupan/prosa-tentang-senyuman.html'"
     ]
    }
   ],
   "source": [
    "df = pd.read_csv('../data/urls.csv')\n",
    "\n",
    "for i, row in df.iterrows():\n",
    "    url = row['url']\n",
    "\n",
    "    response = requests.get('https://www.example.com')\n",
    "\n",
    "    # Check if the request was successful (status code 200 indicates success)\n",
    "    if response.status_code == 200:\n",
    "        # Get the HTML content from the response\n",
    "        html_content = response.text\n",
    "        filename = f\"../data/stories/{i}-{url}.txt\"\n",
    "        with open(filename, \"w+\") as file:\n",
    "            file.write(html_content)\n",
    "            file.close()\n",
    "\n",
    "        # Print the HTML content\n",
    "        # print(html_content)\n"
   ]
  }
 ],
 "metadata": {
  "kernelspec": {
   "display_name": ".venv",
   "language": "python",
   "name": "python3"
  },
  "language_info": {
   "codemirror_mode": {
    "name": "ipython",
    "version": 3
   },
   "file_extension": ".py",
   "mimetype": "text/x-python",
   "name": "python",
   "nbconvert_exporter": "python",
   "pygments_lexer": "ipython3",
   "version": "3.11.3"
  },
  "orig_nbformat": 4
 },
 "nbformat": 4,
 "nbformat_minor": 2
}
